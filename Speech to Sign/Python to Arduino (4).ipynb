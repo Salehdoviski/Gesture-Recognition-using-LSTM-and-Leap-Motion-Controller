{
 "cells": [
  {
   "cell_type": "code",
   "execution_count": 70,
   "id": "5c7f6688",
   "metadata": {},
   "outputs": [
    {
     "name": "stdout",
     "output_type": "stream",
     "text": [
      "Defaulting to user installation because normal site-packages is not writeable\n",
      "Requirement already satisfied: pyserial in c:\\users\\hamze\\appdata\\roaming\\python\\python311\\site-packages (3.5)\n",
      "Defaulting to user installation because normal site-packages is not writeable\n",
      "Requirement already satisfied: SpeechRecognition in c:\\users\\hamze\\appdata\\roaming\\python\\python311\\site-packages (3.10.1)\n",
      "Requirement already satisfied: requests>=2.26.0 in c:\\programdata\\anaconda3\\lib\\site-packages (from SpeechRecognition) (2.31.0)\n",
      "Requirement already satisfied: typing-extensions in c:\\programdata\\anaconda3\\lib\\site-packages (from SpeechRecognition) (4.7.1)\n",
      "Requirement already satisfied: charset-normalizer<4,>=2 in c:\\programdata\\anaconda3\\lib\\site-packages (from requests>=2.26.0->SpeechRecognition) (2.0.4)\n",
      "Requirement already satisfied: idna<4,>=2.5 in c:\\programdata\\anaconda3\\lib\\site-packages (from requests>=2.26.0->SpeechRecognition) (3.4)\n",
      "Requirement already satisfied: urllib3<3,>=1.21.1 in c:\\programdata\\anaconda3\\lib\\site-packages (from requests>=2.26.0->SpeechRecognition) (1.26.16)\n",
      "Requirement already satisfied: certifi>=2017.4.17 in c:\\programdata\\anaconda3\\lib\\site-packages (from requests>=2.26.0->SpeechRecognition) (2023.7.22)\n"
     ]
    }
   ],
   "source": [
    "\n",
    "    # install pyserial library\n",
    "!pip install pyserial\n",
    "# install SpeechRecognition library\n",
    "!pip install SpeechRecognition"
   ]
  },
  {
   "cell_type": "code",
   "execution_count": 71,
   "id": "3c4c4e52",
   "metadata": {},
   "outputs": [
    {
     "name": "stdout",
     "output_type": "stream",
     "text": [
      "Defaulting to user installation because normal site-packages is not writeable\n",
      "Requirement already satisfied: Pyaudio in c:\\users\\hamze\\appdata\\roaming\\python\\python311\\site-packages (0.2.14)\n"
     ]
    }
   ],
   "source": [
    "# install Pyaudio library\n",
    "!pip install Pyaudio"
   ]
  },
  {
   "cell_type": "code",
   "execution_count": 72,
   "id": "b7f27c74",
   "metadata": {},
   "outputs": [
    {
     "name": "stdout",
     "output_type": "stream",
     "text": [
      "Defaulting to user installation because normal site-packages is not writeable\n",
      "Requirement already satisfied: Keyboard in c:\\users\\hamze\\appdata\\roaming\\python\\python311\\site-packages (0.13.5)\n"
     ]
    }
   ],
   "source": [
    "# install Keyboard library\n",
    "!pip install Keyboard"
   ]
  },
  {
   "cell_type": "code",
   "execution_count": 20,
   "id": "fa8ef43d",
   "metadata": {},
   "outputs": [],
   "source": [
    "# Import serial library\n",
    "import serial\n",
    "# Import speech_recognition library\n",
    "import speech_recognition\n",
    "# Import pyaudio library\n",
    "import pyaudio"
   ]
  },
  {
   "cell_type": "code",
   "execution_count": 21,
   "id": "7b443639",
   "metadata": {},
   "outputs": [],
   "source": [
    "# Function to map words to binary representations\n",
    "def map_word_to_binary(word):\n",
    "    # Define binary representations for specific words\n",
    "    word_to_binary = {\n",
    "        'hello': '0110000000',\n",
    "        'my': '0110000000',\n",
    "        'name':'0110011001',\n",
    "        'is':'0110011111',\n",
    "        'thamer':'0110011111',\n",
    "        'i': '00000000000',\n",
    "        'me': '00000000000',\n",
    "        'fine': '0100000000',\n",
    "        'please': '0100000000',\n",
    "        'same': '0010000000',\n",
    "        'mine': '0101000000',\n",
    "        'look': '0001000000',\n",
    "        'deaf': '0110000000',\n",
    "        'hear': '0010000000',\n",
    "        'say': '0111000000',\n",
    "        'tell': '0111000000',\n",
    "        'wrong': '0101000000',\n",
    "        'not': '0111100000',\n",
    "        'girl': '0001100000',\n",
    "        'boy': '0011000000',\n",
    "        'forget': '0011000000',\n",
    "        'eat': '0101100000',\n",
    "        'cat': '0001100000',\n",
    "        'thanks': '0110100000',\n",
    "        'thank you': '0110100000',\n",
    "        'mother': '0000100000',\n",
    "        'mom': '0000100000',\n",
    "        'father': '0010100000',\n",
    "        'dad': '0010100000',\n",
    "        'hi': '0100100000',\n",
    "        'not yet': '0000100000',\n",
    "        'your': '0110100000',\n",
    "        'need': '0010100000',\n",
    "        'you': '0110100000',\n",
    "        'give': '0001100000',\n",
    "        'ask': '0001100000',\n",
    "        'bathroom': '0101100000',\n",
    "        'milk': '1101100000',\n",
    "        'no': '0011100000',\n",
    "        'yes': '0111100000',\n",
    "        # Add more mappings as needed\n",
    "    }\n",
    "   # Return the binary representation for the given word to all zeros\n",
    "    return word_to_binary.get(word, '0000000000')"
   ]
  },
  {
   "cell_type": "code",
   "execution_count": 22,
   "id": "7d621f38",
   "metadata": {},
   "outputs": [
    {
     "name": "stdout",
     "output_type": "stream",
     "text": [
      "Listening for voice commands...\n",
      "hello$0110000000\n"
     ]
    }
   ],
   "source": [
    "import serial\n",
    "import speech_recognition\n",
    "\n",
    "# Initialize serial communication with Arduino (Define the serial port and baud rate).\n",
    "ser = serial.Serial('COM6', 9600)  # Change 'COM6' to your Arduino's serial port\n",
    "\n",
    "# Initialize speech recognition\n",
    "recognizer = speech_recognition.Recognizer()\n",
    "\n",
    "try:\n",
    "    # Start listening for voice commands\n",
    "    with speech_recognition.Microphone() as mic:\n",
    "        recognizer.adjust_for_ambient_noise(mic, duration=0.1)\n",
    "        print(\"Listening for voice commands...\")\n",
    "\n",
    "     # Continuous loop for listening and processing voice commands\n",
    "        while True:\n",
    "            # Listen to the microphone input\n",
    "            audio = recognizer.listen(mic)\n",
    "            # Recognize the spoken text using Google's speech recognition\n",
    "            text = recognizer.recognize_google(audio)             \n",
    "            # Map the recognized word to a binary representation\n",
    "            binary_text = map_word_to_binary(text)            \n",
    "            # Send the binary representation to Arduino over serial communication\n",
    "            data_to_send = f\"{text}${binary_text}\"\n",
    "            data_to_send = str(data_to_send)\n",
    "            print(data_to_send)\n",
    "            # Send the data to Arduino over serial communication\n",
    "            ser.write(data_to_send.encode('utf-8'))\n",
    "\n",
    "except speech_recognition.UnknownValueError:\n",
    "    # Handle when speech recognition cannot understand the audio input\n",
    "    recognizer = speech_recognition.Recognizer()\n",
    "\n",
    "except KeyboardInterrupt:\n",
    "    # Handle keyboard interrupt to gracefully exit the loop\n",
    "    pass\n",
    "\n",
    "finally:\n",
    "    # Close the serial connection when done\n",
    "    ser.close()"
   ]
  },
  {
   "cell_type": "code",
   "execution_count": null,
   "id": "2a0f09da",
   "metadata": {},
   "outputs": [],
   "source": []
  },
  {
   "cell_type": "code",
   "execution_count": null,
   "id": "a055ea2d",
   "metadata": {},
   "outputs": [],
   "source": []
  },
  {
   "cell_type": "code",
   "execution_count": null,
   "id": "196d0f61",
   "metadata": {},
   "outputs": [],
   "source": []
  },
  {
   "cell_type": "code",
   "execution_count": null,
   "id": "395db499",
   "metadata": {},
   "outputs": [],
   "source": []
  }
 ],
 "metadata": {
  "kernelspec": {
   "display_name": "Python 3 (ipykernel)",
   "language": "python",
   "name": "python3"
  },
  "language_info": {
   "codemirror_mode": {
    "name": "ipython",
    "version": 3
   },
   "file_extension": ".py",
   "mimetype": "text/x-python",
   "name": "python",
   "nbconvert_exporter": "python",
   "pygments_lexer": "ipython3",
   "version": "3.11.5"
  }
 },
 "nbformat": 4,
 "nbformat_minor": 5
}
